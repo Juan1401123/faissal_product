{
 "cells": [
  {
   "cell_type": "code",
   "execution_count": 1,
   "id": "e5eb1acd",
   "metadata": {},
   "outputs": [],
   "source": [
    "import re\n",
    "import time\n",
    "from colorama import Fore\n",
    "import openpyxl\n",
    "from bs4 import BeautifulSoup\n",
    "from selenium.webdriver.common.by import By\n",
    "from selenium.webdriver.support.ui import WebDriverWait\n",
    "from selenium.webdriver.support import expected_conditions as EC\n",
    "from selenium.webdriver.support.wait import WebDriverWait\n",
    "from selenium.webdriver.chrome.options import Options\n",
    "import pandas as pd\n",
    "from selenium import webdriver\n",
    "from selenium.common.exceptions import WebDriverException\n",
    "from selenium.webdriver.common.keys import Keys\n",
    "from selenium.common.exceptions import StaleElementReferenceException\n",
    "import random\n",
    "from selenium.common.exceptions import ElementClickInterceptedException\n",
    "from selenium.common.exceptions import NoSuchElementException\n",
    "import math"
   ]
  },
  {
   "cell_type": "code",
   "execution_count": 2,
   "id": "39983639",
   "metadata": {},
   "outputs": [],
   "source": [
    "options = Options()\n",
    "\n",
    "options.add_argument('--disable-application-cache')\n",
    "options.add_argument('--disable-blink-features=AutomationControlled')\n",
    "options.add_argument(\"--disable-cookies\")\n",
    "options.add_argument(\"--disable-extensions\")\n",
    "options.add_argument('--no-sandbox')\n",
    "options.add_argument(\"--disable-extensions\")\n",
    "options.add_argument(\"start-maximized\")\n",
    "options.add_argument('--disable-gpu')\n",
    "# options.add_argument(\"--headless\")  \n",
    "# options.add_argument(\"--disable-gpu\")\n",
    "options.add_argument(\"--disable-dev-shm-usage\")\n",
    "options.add_argument('--ignore-urlfetcher-cert-requests')\n",
    "options.add_argument('--no-first-run')\n",
    "options.add_argument(\"--disable-popup-blocking\") \n",
    "\n",
    "\n",
    "driver = webdriver.Chrome(options=options)"
   ]
  },
  {
   "cell_type": "code",
   "execution_count": 3,
   "id": "18d88d9e",
   "metadata": {},
   "outputs": [],
   "source": [
    "link='https://www.oftalmologiaclinica.it/'"
   ]
  },
  {
   "cell_type": "code",
   "execution_count": 4,
   "id": "5eb7e31f",
   "metadata": {},
   "outputs": [],
   "source": [
    "driver.get(link)"
   ]
  },
  {
   "cell_type": "code",
   "execution_count": null,
   "id": "6f8ab1fb",
   "metadata": {},
   "outputs": [],
   "source": [
    "page=BeautifulSoup(driver.page_source,'html.parser')\n",
    "alldoctors=page.find('div',id='wpsl-stores')\n",
    "alltargets=alldoctors.find_all('li')"
   ]
  },
  {
   "cell_type": "code",
   "execution_count": 63,
   "id": "33d8990c",
   "metadata": {},
   "outputs": [],
   "source": [
    "name=[]\n",
    "specialist_title=[]\n",
    "numtel=[]\n",
    "email=[]\n",
    "othercontacts=[]\n",
    "adress=[]\n",
    "url=[]\n"
   ]
  },
  {
   "cell_type": "code",
   "execution_count": 64,
   "id": "b9ffd14a",
   "metadata": {},
   "outputs": [],
   "source": [
    "for a in alltargets:\n",
    "    # Valores por defecto ─ si algo falta, quedará en None\n",
    "    prename = None\n",
    "    prespecialist = None\n",
    "    phone = None\n",
    "    mail = None\n",
    "    other = None\n",
    "    preadres =None\n",
    "    preurl=None\n",
    "\n",
    "\n",
    "    h2 = a.find('h2')\n",
    "    if h2:\n",
    "        prename = h2.get_text(strip=True)\n",
    "\n",
    "    firsta=a.find('a')\n",
    "    if firsta:\n",
    "        preurl='https://www.oftalmologiaclinica.it'+a.find('a')['href']\n",
    "    \n",
    "\n",
    "    adresswrapper=a.find('div',class_='wpsl-store-name-wrapper')\n",
    "    if adresswrapper:\n",
    "        preadress=adresswrapper.get_text(strip=True)\n",
    "\n",
    "\n",
    "    spec_div = a.find('div', class_='wpsl-specialization')\n",
    "    if spec_div:\n",
    "        prespecialist = spec_div.get_text(strip=True)\n",
    "\n",
    "\n",
    "    contact_wrapper = a.find('div', class_='wpsl-contact-details-wrapper')\n",
    "    if contact_wrapper:\n",
    "        contacts = contact_wrapper.find_all('div', class_='wpsl-contact-details')\n",
    "\n",
    "        if contacts:\n",
    "\n",
    "            phone = contacts[0].get_text(strip=True).split(':', 1)[-1].strip()\n",
    "\n",
    "            if len(contacts) > 1:\n",
    "                mail = contacts[1].get_text(strip=True).split(':', 1)[-1].strip()\n",
    "\n",
    "    \n",
    "            if len(contacts) > 2:\n",
    "                extra = [\n",
    "                    c.get_text(strip=True).split(':', 1)[-1].strip()\n",
    "                    for c in contacts[2:]\n",
    "                ]\n",
    "                other = \", \".join(extra)\n",
    "\n",
    "    name.append(prename)\n",
    "    specialist_title.append(prespecialist)\n",
    "    numtel.append(phone)\n",
    "    email.append(mail)\n",
    "    othercontacts.append(other)\n",
    "    adress.append(preadress)\n",
    "    url.append(preurl)"
   ]
  },
  {
   "cell_type": "code",
   "execution_count": 60,
   "id": "cf2667bd",
   "metadata": {},
   "outputs": [],
   "source": [
    "sample=({\n",
    "    'name':name,\n",
    "    'specialist_title':specialist_title,\n",
    "    'numtel':numtel,\n",
    "    'email':email,\n",
    "    'othercontacts':othercontacts,\n",
    "    'adress':adress,\n",
    "    'url':url\n",
    "\n",
    "})"
   ]
  },
  {
   "cell_type": "code",
   "execution_count": 65,
   "id": "f33aa611",
   "metadata": {},
   "outputs": [],
   "source": [
    "sample=pd.DataFrame(sample)"
   ]
  },
  {
   "cell_type": "code",
   "execution_count": 66,
   "id": "d15e8308",
   "metadata": {},
   "outputs": [],
   "source": [
    "sample.to_csv('oftalmologiaclinica.csv',index=False)\n",
    "sample.to_excel('oftalmologiaclinica.xlsx',index=False)"
   ]
  }
 ],
 "metadata": {
  "kernelspec": {
   "display_name": "doctores_env",
   "language": "python",
   "name": "python3"
  },
  "language_info": {
   "codemirror_mode": {
    "name": "ipython",
    "version": 3
   },
   "file_extension": ".py",
   "mimetype": "text/x-python",
   "name": "python",
   "nbconvert_exporter": "python",
   "pygments_lexer": "ipython3",
   "version": "3.13.3"
  }
 },
 "nbformat": 4,
 "nbformat_minor": 5
}
