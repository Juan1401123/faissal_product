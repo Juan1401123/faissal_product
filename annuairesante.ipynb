{
 "cells": [
  {
   "cell_type": "code",
   "execution_count": 121,
   "id": "b40b7003",
   "metadata": {},
   "outputs": [],
   "source": [
    "import re\n",
    "import time\n",
    "from colorama import Fore\n",
    "import openpyxl\n",
    "from bs4 import BeautifulSoup\n",
    "from selenium.webdriver.common.by import By\n",
    "from selenium.webdriver.support.ui import WebDriverWait\n",
    "from selenium.webdriver.support import expected_conditions as EC\n",
    "from selenium.webdriver.support.wait import WebDriverWait\n",
    "from selenium.webdriver.chrome.options import Options\n",
    "import pandas as pd\n",
    "from selenium import webdriver\n",
    "from selenium.common.exceptions import WebDriverException\n",
    "from selenium.webdriver.common.keys import Keys\n",
    "from selenium.common.exceptions import StaleElementReferenceException\n",
    "import random\n",
    "from selenium.common.exceptions import ElementClickInterceptedException\n",
    "from selenium.common.exceptions import NoSuchElementException\n",
    "from selenium.common.exceptions import TimeoutException\n",
    "import math"
   ]
  },
  {
   "cell_type": "code",
   "execution_count": 122,
   "id": "9fd2158f",
   "metadata": {},
   "outputs": [],
   "source": [
    "options = Options()\n",
    "\n",
    "options.add_argument('--disable-application-cache')\n",
    "options.add_argument('--disable-blink-features=AutomationControlled')\n",
    "options.add_argument(\"--disable-cookies\")\n",
    "options.add_argument(\"--disable-extensions\")\n",
    "options.add_argument('--no-sandbox')\n",
    "options.add_argument(\"--disable-extensions\")\n",
    "options.add_argument(\"start-maximized\")\n",
    "options.add_argument('--disable-gpu')\n",
    "# options.add_argument(\"--headless\")  \n",
    "# options.add_argument(\"--disable-gpu\")\n",
    "options.add_argument(\"--disable-dev-shm-usage\")\n",
    "options.add_argument('--ignore-urlfetcher-cert-requests')\n",
    "options.add_argument('--no-first-run')\n",
    "options.add_argument(\"--disable-popup-blocking\") \n",
    "\n",
    "\n",
    "driver = webdriver.Chrome(options=options)"
   ]
  },
  {
   "cell_type": "code",
   "execution_count": 123,
   "id": "9eaab9fc",
   "metadata": {},
   "outputs": [],
   "source": [
    "# driver.get('https://annuairesante.ameli.fr/')\n",
    "# inputsearch=WebDriverWait(driver,10).until(EC.presence_of_element_located((By.ID,'input-46')))\n",
    "# searchbuttn=driver.find_element(By.XPATH, '//*[@data-testid=\"searchBtn\"]')\n",
    "# inputclass=driver.find_element(By.XPATH, '//*[@data-testid=\"searchProfessionInput\"]')"
   ]
  },
  {
   "cell_type": "code",
   "execution_count": 124,
   "id": "23f5fae2",
   "metadata": {},
   "outputs": [],
   "source": [
    "list_of_cities=['angers','BREST','CAEN']"
   ]
  },
  {
   "cell_type": "code",
   "execution_count": 125,
   "id": "275f520e",
   "metadata": {},
   "outputs": [],
   "source": [
    "name=[]\n",
    "adress=[]\n",
    "numero=[]\n",
    "speciality=[]\n",
    "categories=[]\n",
    "\n"
   ]
  },
  {
   "cell_type": "code",
   "execution_count": 126,
   "id": "01ea8057",
   "metadata": {},
   "outputs": [
    {
     "ename": "KeyboardInterrupt",
     "evalue": "",
     "output_type": "error",
     "traceback": [
      "\u001b[31m---------------------------------------------------------------------------\u001b[39m",
      "\u001b[31mKeyboardInterrupt\u001b[39m                         Traceback (most recent call last)",
      "\u001b[36mCell\u001b[39m\u001b[36m \u001b[39m\u001b[32mIn[126]\u001b[39m\u001b[32m, line 25\u001b[39m\n\u001b[32m     23\u001b[39m \u001b[38;5;28;01mwhile\u001b[39;00m descnum==\u001b[32m0\u001b[39m:\n\u001b[32m     24\u001b[39m     driver.execute_script(\u001b[33mf\u001b[39m\u001b[33m\"\u001b[39m\u001b[33mwindow.scrollBy(0, \u001b[39m\u001b[38;5;132;01m{\u001b[39;00m\u001b[32m15500\u001b[39m\u001b[38;5;132;01m}\u001b[39;00m\u001b[33m);\u001b[39m\u001b[33m\"\u001b[39m)\n\u001b[32m---> \u001b[39m\u001b[32m25\u001b[39m     \u001b[43mtime\u001b[49m\u001b[43m.\u001b[49m\u001b[43msleep\u001b[49m\u001b[43m(\u001b[49m\u001b[32;43m1\u001b[39;49m\u001b[43m)\u001b[49m\n\u001b[32m     26\u001b[39m     page=BeautifulSoup(driver.page_source,\u001b[33m'\u001b[39m\u001b[33mhtml.parser\u001b[39m\u001b[33m'\u001b[39m)\n\u001b[32m     27\u001b[39m     alltargets=page.find_all(\u001b[33m'\u001b[39m\u001b[33mdiv\u001b[39m\u001b[33m'\u001b[39m,class_=\u001b[33m'\u001b[39m\u001b[33mcard-holder-pointer\u001b[39m\u001b[33m'\u001b[39m)\n",
      "\u001b[31mKeyboardInterrupt\u001b[39m: "
     ]
    }
   ],
   "source": [
    "for city in list_of_cities:\n",
    "    driver.get('https://annuairesante.ameli.fr/')\n",
    "    time.sleep(2)\n",
    "    inputsearch=WebDriverWait(driver,10).until(EC.presence_of_element_located((By.ID,'input-46')))\n",
    "    searchbuttn=driver.find_element(By.XPATH, '//*[@data-testid=\"searchBtn\"]')\n",
    "    inputclass=driver.find_element(By.XPATH, '//*[@data-testid=\"searchProfessionInput\"]')\n",
    "    inputsearch.clear()\n",
    "    time.sleep(1)\n",
    "    inputsearch.send_keys(city)\n",
    "    time.sleep(1)\n",
    "    time.sleep(2)\n",
    "    optionsearch=driver.find_elements(By.CSS_SELECTOR, 'div[data-v-f8559e0c][role=\"menuitem\"]')\n",
    "    optionsearch[1].click()\n",
    "    inputclass.send_keys('Ophtalmologiste')\n",
    "    time.sleep(1)\n",
    "    optionclass=driver.find_element(By.CSS_SELECTOR, 'div[class=\"v-list v-select-list v-sheet theme--light theme--light\"]')\n",
    "    optionclass.click()\n",
    "\n",
    "    time.sleep(1)\n",
    "    searchbuttn.click()\n",
    "    descnum=0\n",
    "    errorcouter=0\n",
    "    while descnum==0:\n",
    "        driver.execute_script(f\"window.scrollBy(0, {15500});\")\n",
    "        time.sleep(1)\n",
    "        page=BeautifulSoup(driver.page_source,'html.parser')\n",
    "        alltargets=page.find_all('div',class_='card-holder-pointer')\n",
    "        for targets in alltargets:\n",
    "          try:\n",
    "            prename=targets.find('p',class_='text-lg-subtitle-1 mb-0 primary--text').text\n",
    "            if prename:\n",
    "                name.append(prename)\n",
    "            else:\n",
    "                name.append(None)\n",
    "          except AttributeError:\n",
    "                name.append(None)\n",
    "          try:\n",
    "            prespeciality=targets.find('div',class_='d-block align-baseline').text\n",
    "            if prespeciality:\n",
    "                speciality.append(prespeciality)\n",
    "            else:\n",
    "                speciality.append(None)\n",
    "          except AttributeError:\n",
    "                speciality.append(None)\n",
    "          try:\n",
    "            precategories=targets.find('p',class_='grey-text text-body-2 mb-0 mt-1').text\n",
    "            if precategories:\n",
    "                categories.append(precategories)\n",
    "            else:\n",
    "                categories.append(None)\n",
    "          except AttributeError:\n",
    "                categories.append(None)\n",
    "          try:\n",
    "            preadress=targets.find('span',attrs={\"data-testid\": \"adresse\"}).text\n",
    "            if preadress:\n",
    "                adress.append(preadress)\n",
    "            else:\n",
    "                adress.append(None)\n",
    "          except AttributeError:\n",
    "                adress.append(None)        \n",
    "          try:\n",
    "            prenumero=targets.find('span',attrs={\"data-testid\": \"telephone\"}).text\n",
    "            if prenumero:\n",
    "                numero.append(prenumero)\n",
    "            else:\n",
    "                numero.append(None)\n",
    "          except AttributeError:\n",
    "                numero.append(None)    \n",
    "    \n",
    "    \n",
    "    \n",
    "    \n",
    "        if len(driver.find_elements(By.XPATH,'//button[@aria-label=\"Page suivante\"]'))>0:\n",
    "            try:\n",
    "                driver.find_element(By.XPATH,'//button[@aria-label=\"Page suivante\"]').click()\n",
    "                time.sleep(2)\n",
    "            except ElementClickInterceptedException:\n",
    "                time.sleep(2)\n",
    "                errorcouter+=1\n",
    "            if errorcouter>5:\n",
    "                    descnum=1\n",
    "        else:\n",
    "            descnum=1    \n"
   ]
  },
  {
   "cell_type": "code",
   "execution_count": null,
   "id": "3c996a20",
   "metadata": {},
   "outputs": [],
   "source": [
    "len(driver.find_elements(By.XPATH,'//button[@aria-label=\"Page suivante\"]'))"
   ]
  },
  {
   "cell_type": "code",
   "execution_count": null,
   "id": "7bde269b",
   "metadata": {},
   "outputs": [],
   "source": [
    "sample=({\n",
    "    'Name':name,\n",
    "    'Number':numero,\n",
    "    'Adress':adress,\n",
    "    'Categorie':categories,\n",
    "    'Speciality':speciality\n",
    "})"
   ]
  },
  {
   "cell_type": "code",
   "execution_count": null,
   "id": "5dc1b49b",
   "metadata": {},
   "outputs": [],
   "source": [
    "data=pd.DataFrame(sample).drop_duplicates()"
   ]
  },
  {
   "cell_type": "code",
   "execution_count": null,
   "id": "6a0cf390",
   "metadata": {},
   "outputs": [],
   "source": [
    "data"
   ]
  },
  {
   "cell_type": "code",
   "execution_count": null,
   "id": "0df6100e",
   "metadata": {},
   "outputs": [],
   "source": [
    "\n",
    "data.to_csv('annuairesante_with_services_update.csv',index=False)\n",
    "data.to_excel('annuairesante_with_services_update.xlsx',index=False)"
   ]
  }
 ],
 "metadata": {
  "kernelspec": {
   "display_name": "doctores_env",
   "language": "python",
   "name": "python3"
  },
  "language_info": {
   "codemirror_mode": {
    "name": "ipython",
    "version": 3
   },
   "file_extension": ".py",
   "mimetype": "text/x-python",
   "name": "python",
   "nbconvert_exporter": "python",
   "pygments_lexer": "ipython3",
   "version": "3.13.3"
  }
 },
 "nbformat": 4,
 "nbformat_minor": 5
}
