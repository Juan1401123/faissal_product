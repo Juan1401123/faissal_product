{
 "cells": [
  {
   "cell_type": "code",
   "execution_count": 3,
   "id": "fea5d85a",
   "metadata": {},
   "outputs": [],
   "source": [
    "import re\n",
    "import time\n",
    "from colorama import Fore\n",
    "import openpyxl\n",
    "from bs4 import BeautifulSoup\n",
    "from selenium.webdriver.common.by import By\n",
    "from selenium.webdriver.support.ui import WebDriverWait\n",
    "from selenium.webdriver.support import expected_conditions as EC\n",
    "from selenium.webdriver.support.wait import WebDriverWait\n",
    "from selenium.webdriver.chrome.options import Options\n",
    "import pandas as pd\n",
    "from selenium import webdriver\n",
    "from selenium.common.exceptions import WebDriverException\n",
    "from selenium.webdriver.common.keys import Keys\n",
    "from selenium.common.exceptions import StaleElementReferenceException\n",
    "import random\n",
    "from selenium.common.exceptions import ElementClickInterceptedException\n",
    "from selenium.common.exceptions import NoSuchElementException\n",
    "import math"
   ]
  },
  {
   "cell_type": "code",
   "execution_count": 20,
   "id": "c3121d86",
   "metadata": {},
   "outputs": [],
   "source": [
    "options = Options()\n",
    "\n",
    "options.add_argument('--disable-application-cache')\n",
    "options.add_argument('--disable-blink-features=AutomationControlled')\n",
    "options.add_argument(\"--disable-cookies\")\n",
    "options.add_argument(\"--disable-extensions\")\n",
    "options.add_argument('--no-sandbox')\n",
    "options.add_argument(\"--disable-extensions\")\n",
    "options.add_argument(\"start-maximized\")\n",
    "options.add_argument('--disable-gpu')\n",
    "# options.add_argument(\"--headless\")  \n",
    "# options.add_argument(\"--disable-gpu\")\n",
    "options.add_argument(\"--disable-dev-shm-usage\")\n",
    "options.add_argument('--ignore-urlfetcher-cert-requests')\n",
    "options.add_argument('--no-first-run')\n",
    "options.add_argument(\"--disable-popup-blocking\") \n",
    "\n",
    "\n",
    "driver = webdriver.Chrome(options=options)"
   ]
  },
  {
   "cell_type": "code",
   "execution_count": 21,
   "id": "e7c97aa8",
   "metadata": {},
   "outputs": [],
   "source": [
    "link='https://str.optical.org/'"
   ]
  },
  {
   "cell_type": "code",
   "execution_count": 22,
   "id": "f770706e",
   "metadata": {},
   "outputs": [],
   "source": [
    "driver.get(link)"
   ]
  },
  {
   "cell_type": "code",
   "execution_count": 9,
   "id": "43362518",
   "metadata": {},
   "outputs": [],
   "source": [
    "england_postcode_areas = [\n",
    "'NE','YO','DL','CA','MI','S','B','L','E','N','TA','EX'\n",
    "]"
   ]
  },
  {
   "cell_type": "code",
   "execution_count": 23,
   "id": "968ccbf3",
   "metadata": {},
   "outputs": [],
   "source": [
    "england_postcode_areas = [\n",
    "'DL','CA','MI','S','B','L','E','N','TA','EX'\n",
    "]"
   ]
  },
  {
   "cell_type": "code",
   "execution_count": 10,
   "id": "d7a0d6a7",
   "metadata": {},
   "outputs": [],
   "source": [
    "inputcodepostal=driver.find_element(By.ID,'Registrant-Geography-input')\n",
    "clicksearch=driver.find_element(By.CSS_SELECTOR,'#searchform > div.card-footer > button.btn.btn-primary.float-right.mt-3')"
   ]
  },
  {
   "cell_type": "code",
   "execution_count": 14,
   "id": "c597789d",
   "metadata": {},
   "outputs": [],
   "source": [
    "slider = driver.find_element(By.ID, \"BodyCorporate-Geography-range\")\n",
    "\n",
    "# Ejecuta JS para ponerlo en 100 y disparar el evento\n",
    "driver.execute_script(\"\"\"\n",
    "    arguments[0].value = 100;\n",
    "    arguments[0].dispatchEvent(new Event('input', { bubbles: true }));\n",
    "\"\"\", slider)\n",
    "\n"
   ]
  },
  {
   "cell_type": "code",
   "execution_count": 18,
   "id": "1ac70f21",
   "metadata": {},
   "outputs": [],
   "source": [
    "data1=[]\n",
    "data2=[]\n",
    "data3=[]\n",
    "data4=[]"
   ]
  },
  {
   "cell_type": "code",
   "execution_count": null,
   "id": "a048167c",
   "metadata": {},
   "outputs": [
    {
     "name": "stdout",
     "output_type": "stream",
     "text": [
      "[!] Error con DL5, reintentando... 1/3 - No se encontró el texto de número de páginas.\n",
      "[!] Error con DL5, reintentando... 2/3 - No se encontró el texto de número de páginas.\n",
      "[!] Error con DL5, reintentando... 3/3 - No se encontró el texto de número de páginas.\n",
      "[x] Fallo definitivo en DL5\n",
      "[!] Error con CA5, reintentando... 1/3 - No se encontró el texto de número de páginas.\n",
      "[!] Error con CA5, reintentando... 2/3 - No se encontró el texto de número de páginas.\n",
      "[!] Error con CA5, reintentando... 3/3 - No se encontró el texto de número de páginas.\n",
      "[x] Fallo definitivo en CA5\n",
      "[!] Error con MI5, reintentando... 1/3 - No se encontró el texto de número de páginas.\n"
     ]
    },
    {
     "ename": "KeyboardInterrupt",
     "evalue": "",
     "output_type": "error",
     "traceback": [
      "\u001b[31m---------------------------------------------------------------------------\u001b[39m",
      "\u001b[31mValueError\u001b[39m                                Traceback (most recent call last)",
      "\u001b[36mCell\u001b[39m\u001b[36m \u001b[39m\u001b[32mIn[24]\u001b[39m\u001b[32m, line 37\u001b[39m\n\u001b[32m     36\u001b[39m \u001b[38;5;28;01mif\u001b[39;00m \u001b[38;5;129;01mnot\u001b[39;00m prepage:\n\u001b[32m---> \u001b[39m\u001b[32m37\u001b[39m     \u001b[38;5;28;01mraise\u001b[39;00m \u001b[38;5;167;01mValueError\u001b[39;00m(\u001b[33m\"\u001b[39m\u001b[33mNo se encontró el texto de número de páginas.\u001b[39m\u001b[33m\"\u001b[39m)\n\u001b[32m     39\u001b[39m maxpage = \u001b[38;5;28mint\u001b[39m(prepage.text.strip().split()[-\u001b[32m1\u001b[39m])\n",
      "\u001b[31mValueError\u001b[39m: No se encontró el texto de número de páginas.",
      "\nDuring handling of the above exception, another exception occurred:\n",
      "\u001b[31mKeyboardInterrupt\u001b[39m                         Traceback (most recent call last)",
      "\u001b[36mCell\u001b[39m\u001b[36m \u001b[39m\u001b[32mIn[24]\u001b[39m\u001b[32m, line 111\u001b[39m\n\u001b[32m    109\u001b[39m         \u001b[38;5;28mprint\u001b[39m(\u001b[33mf\u001b[39m\u001b[33m\"\u001b[39m\u001b[33m[!] Error con \u001b[39m\u001b[38;5;132;01m{\u001b[39;00marea\u001b[38;5;132;01m}\u001b[39;00m\u001b[38;5;132;01m{\u001b[39;00mdistrict\u001b[38;5;132;01m}\u001b[39;00m\u001b[33m, reintentando... \u001b[39m\u001b[38;5;132;01m{\u001b[39;00m\u001b[32m3\u001b[39m\u001b[38;5;250m \u001b[39m-\u001b[38;5;250m \u001b[39mretries\u001b[38;5;250m \u001b[39m+\u001b[38;5;250m \u001b[39m\u001b[32m1\u001b[39m\u001b[38;5;132;01m}\u001b[39;00m\u001b[33m/3 - \u001b[39m\u001b[38;5;132;01m{\u001b[39;00me\u001b[38;5;132;01m}\u001b[39;00m\u001b[33m\"\u001b[39m)\n\u001b[32m    110\u001b[39m         retries -= \u001b[32m1\u001b[39m\n\u001b[32m--> \u001b[39m\u001b[32m111\u001b[39m         \u001b[43mtime\u001b[49m\u001b[43m.\u001b[49m\u001b[43msleep\u001b[49m\u001b[43m(\u001b[49m\u001b[32;43m2\u001b[39;49m\u001b[43m)\u001b[49m\n\u001b[32m    112\u001b[39m \u001b[38;5;28;01melse\u001b[39;00m:\n\u001b[32m    113\u001b[39m     \u001b[38;5;28mprint\u001b[39m(\u001b[33mf\u001b[39m\u001b[33m\"\u001b[39m\u001b[33m[x] Fallo definitivo en \u001b[39m\u001b[38;5;132;01m{\u001b[39;00marea\u001b[38;5;132;01m}\u001b[39;00m\u001b[38;5;132;01m{\u001b[39;00mdistrict\u001b[38;5;132;01m}\u001b[39;00m\u001b[33m\"\u001b[39m)\n",
      "\u001b[31mKeyboardInterrupt\u001b[39m: "
     ]
    }
   ],
   "source": [
    "rango = [5]\n",
    "\n",
    "for area in england_postcode_areas:\n",
    "    for district in rango:\n",
    "        retries = 3\n",
    "        while retries > 0:\n",
    "            try:\n",
    "           \n",
    "                slider = WebDriverWait(driver, 10).until(\n",
    "                    EC.presence_of_element_located((By.ID, \"Registrant-Geography-range\"))\n",
    "                )\n",
    "                inputcodepostal = WebDriverWait(driver, 10).until(\n",
    "                    EC.presence_of_element_located((By.ID, 'Registrant-Geography-input'))\n",
    "                )\n",
    "                clicksearch = WebDriverWait(driver, 10).until(\n",
    "                    EC.element_to_be_clickable((By.CSS_SELECTOR, '#searchform > div.card-footer > button.btn.btn-primary.float-right.mt-3'))\n",
    "                )\n",
    "\n",
    "                inputcodepostal.clear()\n",
    "                inputcodepostal.send_keys(area + str(district))\n",
    "\n",
    "  \n",
    "                driver.execute_script(\"\"\"\n",
    "                    arguments[0].value = 100;\n",
    "                    arguments[0].dispatchEvent(new Event('input', { bubbles: true }));\n",
    "                \"\"\", slider)\n",
    "\n",
    "   \n",
    "                clicksearch.click()\n",
    "                time.sleep(2)\n",
    "\n",
    "         \n",
    "                soup1 = BeautifulSoup(driver.page_source, 'html.parser')\n",
    "                prepage = soup1.find('p', class_='d-block text-right mt-4')\n",
    "                if not prepage:\n",
    "                    raise ValueError(\"No se encontró el texto de número de páginas.\")\n",
    "\n",
    "                maxpage = int(prepage.text.strip().split()[-1])\n",
    "\n",
    "                for numpage in range(1, maxpage + 1):\n",
    "                    try:\n",
    "     \n",
    "                        inputpag = WebDriverWait(driver, 10).until(\n",
    "                            EC.presence_of_element_located((By.ID, 'goToPageInput'))\n",
    "                        )\n",
    "                        inputpag.clear()\n",
    "                        inputpag.send_keys(numpage)\n",
    "                        time.sleep(1)\n",
    "\n",
    "                        searchbutton = WebDriverWait(driver, 10).until(\n",
    "                            EC.element_to_be_clickable((By.CSS_SELECTOR, '#search-results > div.card-body > div:nth-child(3) > div.col-md-4 > div > div > button'))\n",
    "                        )\n",
    "                        searchbutton.click()\n",
    "                        time.sleep(1)\n",
    "\n",
    "       \n",
    "                        soup2 = BeautifulSoup(driver.page_source, 'html.parser')\n",
    "                        alltargets = soup2.find_all('li', class_='media mb-3 border-bottom pb-3')\n",
    "\n",
    "                        for target in alltargets:\n",
    "                            try:\n",
    "                                predata1 = target.find('strong')\n",
    "                                data1.append(predata1.text if predata1 else None)\n",
    "                            except:\n",
    "                                data1.append(None)\n",
    "\n",
    "                            try:\n",
    "                                predata2 = target.find('div', class_='media-body')\n",
    "                                if predata2:\n",
    "                                    lines = predata2.text.strip().split('\\n')\n",
    "                                    if lines:\n",
    "                                        data2.append(lines[len(lines)-1].strip())\n",
    "                                    else:\n",
    "                                        data2.append(None)\n",
    "                                else:\n",
    "                                    data2.append(None)\n",
    "                            except:\n",
    "                                data2.append(None)\n",
    "                            try:\n",
    "                                predata3 = target.find('div', class_='media-body')\n",
    "                                if predata3:\n",
    "                                    lines = predata3.text.strip().split('\\n')\n",
    "                                    if lines:\n",
    "                                        data3.append(lines[len(lines)-2].strip())\n",
    "                                    else:\n",
    "                                        data3.append(None)\n",
    "                                else:\n",
    "                                    data3.append(None)\n",
    "                            except:\n",
    "                                data3.append(None)\n",
    "                            try:\n",
    "                                predata4 = target.find('div', class_='media-body')\n",
    "                                if predata4:\n",
    "                                    lines = predata4.text.strip().split('\\n')\n",
    "                                    if lines:\n",
    "                                        data4.append(lines[len(lines)-3].strip())\n",
    "                                    else:\n",
    "                                        data4.append(None)\n",
    "                                else:\n",
    "                                    data4.append(None)\n",
    "                            except:\n",
    "                                data4.append(None)\n",
    "                    except Exception as e:\n",
    "                        print(f\"[!] Error en paginación página {numpage}: {e}\")\n",
    "                        continue\n",
    "                break  \n",
    "            except Exception as e:\n",
    "                print(f\"[!] Error con {area}{district}, reintentando... {3 - retries + 1}/3 - {e}\")\n",
    "                retries -= 1\n",
    "                time.sleep(2)\n",
    "        else:\n",
    "            print(f\"[x] Fallo definitivo en {area}{district}\")"
   ]
  },
  {
   "cell_type": "code",
   "execution_count": 30,
   "id": "5beb7f55",
   "metadata": {},
   "outputs": [],
   "source": [
    "sample=({'Name':data1,\n",
    "         'Adress':data2,\n",
    "         'Speciality':data3,\n",
    "         'Register_as':data4\n",
    "         \n",
    "\n",
    "})"
   ]
  },
  {
   "cell_type": "code",
   "execution_count": 31,
   "id": "6c0dc487",
   "metadata": {},
   "outputs": [],
   "source": [
    "sample=pd.DataFrame(sample)"
   ]
  },
  {
   "cell_type": "code",
   "execution_count": 33,
   "id": "a982a34e",
   "metadata": {},
   "outputs": [],
   "source": [
    "sample.drop_duplicates(inplace=True)"
   ]
  },
  {
   "cell_type": "code",
   "execution_count": 36,
   "id": "f2987557",
   "metadata": {},
   "outputs": [],
   "source": [
    "sample['Speciality']=sample['Speciality'].apply(lambda x:x.replace('Specialities: ',''))"
   ]
  },
  {
   "cell_type": "code",
   "execution_count": 38,
   "id": "560c7f2d",
   "metadata": {},
   "outputs": [],
   "source": [
    "sample['Register_as']=sample['Register_as'].apply(lambda x:x.replace('Registered as: ',''))"
   ]
  },
  {
   "cell_type": "code",
   "execution_count": 40,
   "id": "bb936e3f",
   "metadata": {},
   "outputs": [],
   "source": [
    "sample.to_csv('stroptical.csv',index=False)\n",
    "sample.to_excel('stroptical.xlsx',index=False)"
   ]
  }
 ],
 "metadata": {
  "kernelspec": {
   "display_name": "doctores_env",
   "language": "python",
   "name": "python3"
  },
  "language_info": {
   "codemirror_mode": {
    "name": "ipython",
    "version": 3
   },
   "file_extension": ".py",
   "mimetype": "text/x-python",
   "name": "python",
   "nbconvert_exporter": "python",
   "pygments_lexer": "ipython3",
   "version": "3.13.3"
  }
 },
 "nbformat": 4,
 "nbformat_minor": 5
}
