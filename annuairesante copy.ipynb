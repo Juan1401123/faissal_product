{
 "cells": [
  {
   "cell_type": "code",
   "execution_count": 1,
   "id": "b40b7003",
   "metadata": {},
   "outputs": [],
   "source": [
    "import re\n",
    "import time\n",
    "from colorama import Fore\n",
    "import openpyxl\n",
    "from bs4 import BeautifulSoup\n",
    "from selenium.webdriver.common.by import By\n",
    "from selenium.webdriver.support.ui import WebDriverWait\n",
    "from selenium.webdriver.support import expected_conditions as EC\n",
    "from selenium.webdriver.support.wait import WebDriverWait\n",
    "from selenium.webdriver.chrome.options import Options\n",
    "import pandas as pd\n",
    "from selenium import webdriver\n",
    "from selenium.common.exceptions import WebDriverException\n",
    "from selenium.webdriver.common.keys import Keys\n",
    "from selenium.common.exceptions import StaleElementReferenceException\n",
    "import random\n",
    "from selenium.common.exceptions import ElementClickInterceptedException\n",
    "from selenium.common.exceptions import NoSuchElementException\n",
    "from selenium.common.exceptions import TimeoutException\n",
    "import math"
   ]
  },
  {
   "cell_type": "code",
   "execution_count": 2,
   "id": "9fd2158f",
   "metadata": {},
   "outputs": [],
   "source": [
    "options = Options()\n",
    "\n",
    "options.add_argument('--disable-application-cache')\n",
    "options.add_argument('--disable-blink-features=AutomationControlled')\n",
    "# options.add_argument(\"--disable-cookies\")\n",
    "options.add_argument(\"--disable-extensions\")\n",
    "options.add_argument('--no-sandbox')\n",
    "options.add_argument(\"--disable-extensions\")\n",
    "options.add_argument(\"start-maximized\")\n",
    "options.add_argument('--disable-gpu')\n",
    "# options.add_argument(\"--headless\")  \n",
    "# options.add_argument(\"--disable-gpu\")\n",
    "options.add_argument(\"--disable-dev-shm-usage\")\n",
    "options.add_argument('--ignore-urlfetcher-cert-requests')\n",
    "options.add_argument('--no-first-run')\n",
    "options.add_argument(\"--disable-popup-blocking\") \n",
    "\n",
    "\n",
    "driver = webdriver.Chrome(options=options)"
   ]
  },
  {
   "cell_type": "code",
   "execution_count": 3,
   "id": "20964dbe",
   "metadata": {},
   "outputs": [],
   "source": [
    "link='https://annuairesante.ameli.fr/trouver-un-professionnel-de-sante/ophtalmologiste'"
   ]
  },
  {
   "cell_type": "code",
   "execution_count": 4,
   "id": "ece8f98f",
   "metadata": {},
   "outputs": [],
   "source": [
    "driver.get(link)"
   ]
  },
  {
   "cell_type": "code",
   "execution_count": 5,
   "id": "a2eccaea",
   "metadata": {},
   "outputs": [],
   "source": [
    "time.sleep(2)"
   ]
  },
  {
   "cell_type": "code",
   "execution_count": 6,
   "id": "3e513e82",
   "metadata": {},
   "outputs": [],
   "source": [
    "urlstoscrap=[]\n",
    "soup=BeautifulSoup(driver.page_source,'html.parser')\n",
    "allplaces=soup.find_all('li',class_='seo-departement')\n",
    "for a in allplaces:\n",
    "    href=a.find('a')['href']\n",
    "    urlstoscrap.append('https://annuairesante.ameli.fr'+href)"
   ]
  },
  {
   "cell_type": "code",
   "execution_count": 7,
   "id": "b5c95ccf",
   "metadata": {},
   "outputs": [],
   "source": [
    "secondariurls=[]\n",
    "for e in urlstoscrap:\n",
    "    driver.get(e)\n",
    "    time.sleep(2)\n",
    "    soup2=BeautifulSoup(driver.page_source,'html.parser')\n",
    "    try:\n",
    "      first=soup2.find('ul',class_='first')\n",
    "      if first:\n",
    "        links=first.find_all('li')\n",
    "        if links:\n",
    "           for i in links:\n",
    "              temphtml=i.find('a')['href']\n",
    "              if temphtml:\n",
    "                 secondariurls.append(temphtml)\n",
    "    except AttributeError:\n",
    "       print('there is no element')\n",
    "    try:\n",
    "      first=soup2.find('ul',class_='second')\n",
    "      if first:\n",
    "        links=first.find_all('li')\n",
    "        if links:\n",
    "           for i in links:\n",
    "              temphtml=i.find('a')['href']\n",
    "              if temphtml:\n",
    "                 secondariurls.append(temphtml)\n",
    "    except AttributeError:\n",
    "       print('there is no element')\n",
    "    try:\n",
    "      first=soup2.find('ul',class_='third')\n",
    "      if first:\n",
    "        links=first.find_all('li')\n",
    "        if links:\n",
    "           for i in links:\n",
    "              temphtml=i.find('a')['href']\n",
    "              if temphtml:\n",
    "                 secondariurls.append(temphtml)\n",
    "    except AttributeError:\n",
    "       print('there is no element')"
   ]
  },
  {
   "cell_type": "code",
   "execution_count": 8,
   "id": "945f2d79",
   "metadata": {},
   "outputs": [],
   "source": [
    "name=[]\n",
    "specialist_title=[]\n",
    "numtel=[]\n",
    "adress=[]\n",
    "urlstoscrap3=[]\n"
   ]
  },
  {
   "cell_type": "code",
   "execution_count": 9,
   "id": "1ffaa74d",
   "metadata": {},
   "outputs": [
    {
     "data": {
      "text/plain": [
       "0"
      ]
     },
     "execution_count": 9,
     "metadata": {},
     "output_type": "execute_result"
    }
   ],
   "source": [
    "len(secondariurls)"
   ]
  },
  {
   "cell_type": "code",
   "execution_count": 10,
   "id": "6d2b64d8",
   "metadata": {},
   "outputs": [],
   "source": [
    "for index,enlace in enumerate(secondariurls):\n",
    "    numde=0\n",
    "    driver.get('https://annuairesante.ameli.fr'+enlace)\n",
    "    time.sleep(2)\n",
    "    while numde==0:\n",
    "      slider = WebDriverWait(driver, 10).until(\n",
    "      EC.presence_of_element_located((By.XPATH, '//*[@id=\"site_inner\"]/div[7]'))\n",
    "                )\n",
    "      soup2=BeautifulSoup(driver.page_source,'html.parser')\n",
    "      targets=soup2.find_all('div',class_='item-professionnel')\n",
    "      print(index)\n",
    "      for target in targets:\n",
    "         try:\n",
    "            prename=target.find('h2').text\n",
    "            preurl=target.find('a')['href']\n",
    "            if preurl:\n",
    "               urlstoscrap3.append('https://annuairesante.ameli.fr'+preurl)\n",
    "            if prename:\n",
    "               name.append(prename)\n",
    "            else:\n",
    "               name.append(None)\n",
    "         except AttributeError:\n",
    "            name.append(None)\n",
    "         try:\n",
    "            prespecialist_title=target.find('div',class_='item left specialite').text\n",
    "            if prespecialist_title:\n",
    "               specialist_title.append(prespecialist_title)\n",
    "            else:\n",
    "               specialist_title.append(None)\n",
    "         except AttributeError:\n",
    "            specialist_title.append(None)\n",
    "         try:\n",
    "            prenumtel=target.find('div',class_='item left tel').text\n",
    "            if prenumtel:\n",
    "               numtel.append(prenumtel)\n",
    "            else:\n",
    "               numtel.append(None)\n",
    "         except AttributeError:\n",
    "            try:\n",
    "              prenumtel=target.find('div',class_='item right tel').text\n",
    "              if prenumtel:\n",
    "                  numtel.append(prenumtel)\n",
    "              else:\n",
    "                  numtel.append(None)\n",
    "            except AttributeError:\n",
    "                numtel.append(None)\n",
    "         try:\n",
    "            preadress=target.find('div',class_='item left adresse').text\n",
    "            if preadress:\n",
    "               adress.append(preadress)\n",
    "            else:\n",
    "               adress.append(None)\n",
    "         except AttributeError:\n",
    "            adress.append(None)\n",
    "      if len(driver.find_elements(By.XPATH, '//img[@alt=\"Page suivante\"]'))==0:\n",
    "         numde=1\n",
    "      else:\n",
    "        time.sleep(1)\n",
    "        next=WebDriverWait(driver, 10).until(\n",
    "            EC.element_to_be_clickable((By.XPATH, '//img[@alt=\"Page suivante\"]'))\n",
    "        )\n",
    "      #   next=driver.find_element(By.XPATH, '//img[@alt=\"Page suivante\"]')\n",
    "        next.click()\n",
    "      "
   ]
  },
  {
   "cell_type": "code",
   "execution_count": 11,
   "id": "a57f946e",
   "metadata": {},
   "outputs": [],
   "source": [
    "sample=({\n",
    "    'name':name,\n",
    "    'specialist_title':specialist_title,\n",
    "    'numtel':numtel,\n",
    "    'adress':adress,\n",
    "    'url':urlstoscrap3\n",
    "\n",
    "})"
   ]
  },
  {
   "cell_type": "code",
   "execution_count": 12,
   "id": "78e806e5",
   "metadata": {},
   "outputs": [],
   "source": [
    "sample=pd.DataFrame(sample)"
   ]
  },
  {
   "cell_type": "code",
   "execution_count": 13,
   "id": "e12183e3",
   "metadata": {},
   "outputs": [],
   "source": [
    "sample['Services']=None"
   ]
  },
  {
   "cell_type": "code",
   "execution_count": 14,
   "id": "5831fc3e",
   "metadata": {},
   "outputs": [],
   "source": [
    "for indice, enlace in enumerate(sample['Services']):\n",
    "    if enlace is None:\n",
    "       search_url = sample['url'][index]\n",
    "       driver.get(search_url)\n",
    "       print(indice)\n",
    "       try:\n",
    "           WebDriverWait(driver, 10).until(\n",
    "                   EC.presence_of_element_located((By.XPATH, '//*[@id=\"centresite\"]/div[1]/a[1]'))\n",
    "               )\n",
    "           time.sleep(3)\n",
    "           \n",
    "       except TimeoutException :\n",
    "           pass\n",
    "       page=BeautifulSoup(driver.page_source,'html.parser')\n",
    "   \n",
    "   \n",
    "\n",
    "       try:\n",
    "           pre_servicios=page.find('div',id='popinAutocompleteContent').text.replace('\\n', ' ').replace('\\t', '').strip()\n",
    "           if pre_servicios:\n",
    "               sample['Services'][indice]=pre_servicios\n",
    "       except AttributeError:\n",
    "           print('There is no services')\n",
    "    "
   ]
  },
  {
   "cell_type": "code",
   "execution_count": 15,
   "id": "4a25cc57",
   "metadata": {},
   "outputs": [],
   "source": [
    "sample=pd.DataFrame(sample).drop_duplicates()"
   ]
  },
  {
   "cell_type": "code",
   "execution_count": 16,
   "id": "02a96894",
   "metadata": {},
   "outputs": [
    {
     "data": {
      "text/html": [
       "<div>\n",
       "<style scoped>\n",
       "    .dataframe tbody tr th:only-of-type {\n",
       "        vertical-align: middle;\n",
       "    }\n",
       "\n",
       "    .dataframe tbody tr th {\n",
       "        vertical-align: top;\n",
       "    }\n",
       "\n",
       "    .dataframe thead th {\n",
       "        text-align: right;\n",
       "    }\n",
       "</style>\n",
       "<table border=\"1\" class=\"dataframe\">\n",
       "  <thead>\n",
       "    <tr style=\"text-align: right;\">\n",
       "      <th></th>\n",
       "      <th>name</th>\n",
       "      <th>specialist_title</th>\n",
       "      <th>numtel</th>\n",
       "      <th>adress</th>\n",
       "      <th>url</th>\n",
       "      <th>Services</th>\n",
       "    </tr>\n",
       "  </thead>\n",
       "  <tbody>\n",
       "  </tbody>\n",
       "</table>\n",
       "</div>"
      ],
      "text/plain": [
       "Empty DataFrame\n",
       "Columns: [name, specialist_title, numtel, adress, url, Services]\n",
       "Index: []"
      ]
     },
     "execution_count": 16,
     "metadata": {},
     "output_type": "execute_result"
    }
   ],
   "source": [
    "sample"
   ]
  },
  {
   "cell_type": "code",
   "execution_count": 17,
   "id": "0df6100e",
   "metadata": {},
   "outputs": [],
   "source": [
    "\n",
    "sample.to_csv('annuairesante_with_servicesOG.csv',index=False)\n",
    "sample.to_excel('annuairesante_with_servicesOG.xlsx',index=False)"
   ]
  }
 ],
 "metadata": {
  "kernelspec": {
   "display_name": "doctores_env",
   "language": "python",
   "name": "python3"
  },
  "language_info": {
   "codemirror_mode": {
    "name": "ipython",
    "version": 3
   },
   "file_extension": ".py",
   "mimetype": "text/x-python",
   "name": "python",
   "nbconvert_exporter": "python",
   "pygments_lexer": "ipython3",
   "version": "3.13.3"
  }
 },
 "nbformat": 4,
 "nbformat_minor": 5
}
